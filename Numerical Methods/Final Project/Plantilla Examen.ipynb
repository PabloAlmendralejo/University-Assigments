{
 "cells": [
  {
   "cell_type": "markdown",
   "id": "d1f57558",
   "metadata": {},
   "source": [
    "## Euler"
   ]
  },
  {
   "cell_type": "markdown",
   "id": "83d6901a",
   "metadata": {},
   "source": [
    "#### Escalar:"
   ]
  },
  {
   "cell_type": "code",
   "execution_count": null,
   "id": "d6e93062",
   "metadata": {},
   "outputs": [],
   "source": [
    "def euler(f,a,b,x0,n):\n",
    "    h = (b-a)/n\n",
    "    tk = [a,a+h .. b]\n",
    "    xk = (n+1)*[0.]\n",
    "    xk[0] = x0.n()\n",
    "    for i in range(n):\n",
    "        xk[i+1] = (xk[i] + h * f(tk[i],xk[i])).n()\n",
    "    return tk,xk\n",
    "\n",
    "euler2(f,a,b,x0,n)"
   ]
  },
  {
   "cell_type": "markdown",
   "id": "5da8bc22",
   "metadata": {},
   "source": [
    "#### Vectorial:"
   ]
  },
  {
   "cell_type": "code",
   "execution_count": null,
   "id": "39175ff6",
   "metadata": {},
   "outputs": [],
   "source": [
    "def euler(F,x0,h,n):\n",
    "    xk = (n+1)*[vector(RDF,x0)]\n",
    "    for i in range(n):\n",
    "        xk[i+1] = (xk[i] + h * F(*xk[i]) ).n()\n",
    "    return xk"
   ]
  },
  {
   "cell_type": "code",
   "execution_count": null,
   "id": "a578b720",
   "metadata": {},
   "outputs": [],
   "source": []
  },
  {
   "cell_type": "markdown",
   "id": "a343e580",
   "metadata": {},
   "source": [
    "## Euler implícito"
   ]
  },
  {
   "cell_type": "code",
   "execution_count": null,
   "id": "7ddbfee3",
   "metadata": {},
   "outputs": [],
   "source": [
    "def punto_fijo(F,x0,n):\n",
    "    if n == 0:\n",
    "        return x0.n()\n",
    "    return F(punto_fijo(F,x0,n-1)).n()\n",
    "\n",
    "def euler_implicito(f,a,b,x0,n):\n",
    "    h = (b-a)/n\n",
    "    tk = [a,a+h .. b]\n",
    "    xk = (n+1)*[0.]\n",
    "    xk[0] = x0.n()\n",
    "    for i in range(n):\n",
    "        F(x) = xk[i] + h * f(tk[i+1],x)\n",
    "        xk[i+1] = punto_fijo(F,xk[i],5)\n",
    "    return tk,xk\n",
    "\n",
    "euler_implicito(f,a,b,x0,n)"
   ]
  },
  {
   "cell_type": "code",
   "execution_count": null,
   "id": "58949df3",
   "metadata": {},
   "outputs": [],
   "source": []
  },
  {
   "cell_type": "markdown",
   "id": "46de35a9",
   "metadata": {},
   "source": [
    "## Heun"
   ]
  },
  {
   "cell_type": "markdown",
   "id": "97808889",
   "metadata": {},
   "source": [
    "#### Escalar:"
   ]
  },
  {
   "cell_type": "code",
   "execution_count": null,
   "id": "898b2b19",
   "metadata": {},
   "outputs": [],
   "source": [
    "def heun(f,a,b,x0,n):\n",
    "    h = (b-a)/n\n",
    "    tk = [a,a+h .. b]\n",
    "    xk = (n+1)*[0.]\n",
    "    xk[0] = x0.n()\n",
    "    for i in range(n):\n",
    "        xe = xk[i] + h * f(tk[i],xk[i])\n",
    "        xk[i+1] = xk[i] + h*(f(tk[i],xk[i])+f(tk[i+1],xe))/2\n",
    "    return tk,xk\n",
    "\n",
    "heun(f,a,b,x0,n)"
   ]
  },
  {
   "cell_type": "markdown",
   "id": "4ac9d12f",
   "metadata": {},
   "source": [
    "#### Vectorial:"
   ]
  },
  {
   "cell_type": "code",
   "execution_count": null,
   "id": "ea2b4947",
   "metadata": {},
   "outputs": [],
   "source": [
    "def heun(F,x0,h,n):\n",
    "    xk = (n+1)*[vector(RDF,x0)]\n",
    "    for i in range(n):\n",
    "        xa = ( xk[i] + h * F(*xk[i]) ).n()\n",
    "        xk[i+1] = ( xk[i] + h * ( F(*xk[i]) + F(*xa))/2 ).n()\n",
    "    return xk"
   ]
  },
  {
   "cell_type": "code",
   "execution_count": null,
   "id": "eb32883d",
   "metadata": {},
   "outputs": [],
   "source": []
  },
  {
   "cell_type": "markdown",
   "id": "64dc511a",
   "metadata": {},
   "source": [
    "## Taylor"
   ]
  },
  {
   "cell_type": "markdown",
   "id": "d1e07b0e",
   "metadata": {},
   "source": [
    "#### Escalar:"
   ]
  },
  {
   "cell_type": "code",
   "execution_count": null,
   "id": "6183b0b3",
   "metadata": {},
   "outputs": [],
   "source": [
    "def der_total(f,n):\n",
    "    if n==0:\n",
    "        return f\n",
    "    dtn = der_total(f,n-1)\n",
    "    return (dtn.diff(t) + dtn.diff(x) * f).expand()\n",
    "\n",
    "def Taylor(T,a,b,x0,n):\n",
    "    h = (b-a)/n\n",
    "    tk = [a,a+h .. b]\n",
    "    xk = (n+1)*[0.]\n",
    "    xk[0] = x0.n()\n",
    "    for i in range(n):\n",
    "        xk[i+1] = (xk[i] + h * T(tk[i],xk[i],h)).n()\n",
    "    return tk,xk\n",
    "\n",
    "T4(t,x,h) = der_total(f,0) +\\\n",
    "            der_total(f,1)*h/2 +\\\n",
    "            der_total(f,2)*h^2/6 +\\\n",
    "            der_total(f,3)*h^3/24\n",
    "\n",
    "Taylor(T4,a,b,x0,n)"
   ]
  },
  {
   "cell_type": "markdown",
   "id": "3f39d204",
   "metadata": {},
   "source": [
    "#### Vectorial:"
   ]
  },
  {
   "cell_type": "code",
   "execution_count": null,
   "id": "02039862",
   "metadata": {},
   "outputs": [],
   "source": [
    "F(x,y)=[ , ]\n",
    "\n",
    "def der_total_sistemas(F,n):\n",
    "    if n==0:\n",
    "        return F\n",
    "    dtn = der_total_sistemas(F,n-1)\n",
    "    return  dtn.diff() * F\n",
    "\n",
    "def Taylor(T,a,b,x0,n):\n",
    "    h = (b-a)/n\n",
    "    tk = [a,a+h .. b]\n",
    "    xk=(n+1)*[x0]\n",
    "    for i in range(n):\n",
    "        xk[i+1] = (xk[i] + h * T(tk[i],xk[i][0],xk[i][1],h)).n()\n",
    "    return tk,xk\n",
    "\n",
    "T3(t,x,y,h) = der_total_sistemas(F,0) +\\\n",
    "            der_total_sistemas(F,1)*h/2 +\\\n",
    "            der_total_sistemas(F,2)*h^2/6\n",
    "\n",
    "Taylor(T3,a,b,x0,n)"
   ]
  },
  {
   "cell_type": "code",
   "execution_count": null,
   "id": "9f62ebc8",
   "metadata": {},
   "outputs": [],
   "source": []
  },
  {
   "cell_type": "markdown",
   "id": "79e51692",
   "metadata": {},
   "source": [
    "## Runge-Kutta 4"
   ]
  },
  {
   "cell_type": "markdown",
   "id": "fd720d93",
   "metadata": {},
   "source": [
    "#### Escalar:"
   ]
  },
  {
   "cell_type": "code",
   "execution_count": null,
   "id": "3df9ca00",
   "metadata": {},
   "outputs": [],
   "source": [
    "def phiRK(f,theta,alpha,alphamu,m,x,h):\n",
    "    var('h')\n",
    "    tau = [ t + theta[mu]*h for mu in [0 .. m]]\n",
    "    eta = [0.]*(m+1)\n",
    "    eta[0] = x\n",
    "    for mu in [1 .. m]:\n",
    "        eta[mu] = x + h * sum([ alphamu[mu][k]*f(*eta[k]) for k in [0 .. mu-1]])\n",
    "    Ki = [f(*eta[mu]) for mu in [0 .. m]]\n",
    "    phi = sum([ alpha[mu]*Ki[mu] for mu in [0 .. m]])\n",
    "    return phi"
   ]
  },
  {
   "cell_type": "code",
   "execution_count": null,
   "id": "1d24b2ae",
   "metadata": {},
   "outputs": [],
   "source": [
    "def RK4(F,x0,h,n):\n",
    "    m=3\n",
    "    theta = [0,1/2,1/2,1]\n",
    "    alpha = [1/6,1/3,1/3,1/6]\n",
    "    alphamu = matrix( [ [ 0 , 0 , 0 , 0],\n",
    "                    [1/2, 0 , 0 , 0],\n",
    "                    [ 0 ,1/2, 0 , 0],\n",
    "                    [ 0 , 0 , 1 , 0]] )\n",
    "    xk = (n+1)*[0.]\n",
    "    xk[0] = x0.n()\n",
    "    for i in range(n):\n",
    "        xk[i+1] = (xk[i] + h * phiRK(F,theta,alpha,alphamu,m,xk[i],h)).n()\n",
    "    return xk"
   ]
  },
  {
   "cell_type": "markdown",
   "id": "b196e7c1",
   "metadata": {},
   "source": [
    "#### Vectorial: "
   ]
  },
  {
   "cell_type": "code",
   "execution_count": null,
   "id": "718d7b6e",
   "metadata": {},
   "outputs": [],
   "source": [
    "def Runge_Kutta(F,ini,h,n):\n",
    "    k = [0.] * (n + 1)\n",
    "    k[0] = ini\n",
    "    for i in range(n):\n",
    "        xk, yk = k[i]\n",
    "\n",
    "        K1 = F(xk, yk).n()\n",
    "        K2 = F(xk + (h/2) * K1[0], yk + (h/2) * K1[1])\n",
    "        K3 = F(xk + (h/2) * K2[0], yk + (h/2) * K2[1])\n",
    "        K4 = F(xk + h * K3[0], yk + h * K3[1])\n",
    "\n",
    "        x_nuevo = xk + (h/6) * (K1[0] + 2*K2[0] + 2*K3[0] + K4[0])\n",
    "        y_nuevo = yk + (h/6) * (K1[1] + 2*K2[1] + 2*K3[1] + K4[1])\n",
    "\n",
    "        k[i+1] = [x_nuevo, y_nuevo]\n",
    "\n",
    "    return k"
   ]
  },
  {
   "cell_type": "markdown",
   "id": "8e1e68eb",
   "metadata": {},
   "source": [
    "#### A traves de una función implementada:"
   ]
  },
  {
   "cell_type": "code",
   "execution_count": null,
   "id": "ae75684b",
   "metadata": {},
   "outputs": [],
   "source": [
    "P=desolve_system_rk4( F(x,y) , [x,y] , ics = [a,x0] , ivar = \"None\" , step=0.1)"
   ]
  },
  {
   "cell_type": "code",
   "execution_count": null,
   "id": "5d853a6e",
   "metadata": {},
   "outputs": [],
   "source": []
  },
  {
   "cell_type": "markdown",
   "id": "562a7a2a",
   "metadata": {},
   "source": [
    "## Adams"
   ]
  },
  {
   "cell_type": "markdown",
   "id": "8fb41547",
   "metadata": {},
   "source": [
    "#### Bashforth escalar:"
   ]
  },
  {
   "cell_type": "code",
   "execution_count": null,
   "id": "3d67e838",
   "metadata": {},
   "outputs": [],
   "source": [
    "def der_total(f,n):\n",
    "    if n==0:\n",
    "        return f\n",
    "    dtn = der_total(f,n-1)\n",
    "    return (dtn.diff(t) + dtn.diff(x) * f).expand()\n",
    "\n",
    "def Taylor(T,a,b,x0,n):\n",
    "    h = (b-a)/n\n",
    "    tk = [a,a+h .. b]\n",
    "    xk = (n+1)*[0.]\n",
    "    xk[0] = x0.n()\n",
    "    for i in range(n):\n",
    "        xk[i+1] = (xk[i] + h * T(tk[i],xk[i],h)).n()\n",
    "    return tk,xk\n",
    "\n",
    "T4(t,x,h) = der_total(f,0) +\\\n",
    "            der_total(f,1)*h/2 +\\\n",
    "            der_total(f,2)*h^2/6 +\\\n",
    "            der_total(f,3)*h^3/24\n",
    "\n",
    "tk3,xk3 = Taylor(T4,a,b1,x0,k-1)\n",
    "\n",
    "# si se pide calcular el AB de orden k con n pasos lo que se hace es se calcula el h ( (b-a)/n )y entonces a1=a y b1 = (k-1)*h\n",
    "# donde h = (b-a)/n\n",
    "def beta_Adams_Bashforth(k,j):\n",
    "    # Coeficiente j del método de Adams-Bashforth de k-pasos.\n",
    "    lj(t)=prod([(t-i)/(j-i) for i in [0..j-1]+[j+1..k-1]])    \n",
    "    return lj.integral(t,k-1,k)\n",
    "\n",
    "def AB(f,a,b,x0,n,k):\n",
    "    h = (b-a).n()/n\n",
    "    tk = [a,a+h .. b]\n",
    "    xk = x0 + (n+1-k)*[0.]\n",
    "    for i in range(n+1-k):\n",
    "        sumatorio = sum([ beta_Adams_Bashforth(k,j)*f(tk[i+j],xk[i+j]) \n",
    "                          for j in [0 .. k-1] ])\n",
    "        xk[i+k] = (xk[i+k-1] + h * sumatorio).n()\n",
    "    return tk,xk\n",
    "\n",
    "tk,xk=AB(f,a,b,xk3,n,k)\n",
    "xk\n"
   ]
  },
  {
   "cell_type": "markdown",
   "id": "e4e0a4a6",
   "metadata": {},
   "source": [
    "#### Bashforth vectorial:"
   ]
  },
  {
   "cell_type": "code",
   "execution_count": null,
   "id": "f43238dd",
   "metadata": {},
   "outputs": [],
   "source": [
    "var('x,y,t')\n",
    "F(x,y)=[ , ]\n",
    "Ft(t,x,y)=[ , ]\n",
    "\n",
    "def der_total_sistemas(F,n):\n",
    "    if n==0:\n",
    "        return F\n",
    "    dtn = der_total_sistemas(F,n-1)\n",
    "    return  dtn.diff() * F\n",
    "\n",
    "def Taylor(T,a,b,x0,n):\n",
    "    h = (b-a)/n\n",
    "    tk = [a,a+h .. b]\n",
    "    xk=(n+1)*[x0]\n",
    "    for i in range(n):\n",
    "        xk[i+1] = (xk[i] + h * T(tk[i],xk[i][0],xk[i][1],h)).n()\n",
    "    return tk,xk\n",
    "\n",
    "T3(t,x,y,h) = der_total_sistemas(F,0) +\\\n",
    "            der_total_sistemas(F,1)*h/2 +\\\n",
    "            der_total_sistemas(F,2)*h^2/6\n",
    "\n",
    "t3,x3=Taylor(T3,a,b,x0,k-1)\n",
    "\n",
    "def beta_Adams_Bashforth(k,j):\n",
    "    # Coeficiente j del método de Adams-Bashforth de k-pasos.\n",
    "    lj(t)=prod([(t-i)/(j-i) for i in [0..j-1]+[j+1..k-1]])    \n",
    "    return lj.integral(t,k-1,k)\n",
    "\n",
    "def AB(f,a,b,x0,n,k):\n",
    "    h = (b-a).n()/n\n",
    "    tk = [a,a+h .. b]\n",
    "    xk = x0 + (n+1-k)*[x0[0]]\n",
    "    for i in range(n+1-k):\n",
    "        sumatorio = sum([ beta_Adams_Bashforth(k,j)*f(tk[i+j],xk[i+j][0],xk[i+j][1]) \n",
    "                          for j in [0 .. k-1] ])\n",
    "        xk[i+k] = xk[i+k-1]+ h * sumatorio\n",
    "\n",
    "    return tk,xk\n",
    "\n",
    "# si la función F no es autonoma (depende de t) entonces necesitamos utilizar Ft. en caso contrario utilizar F\n",
    "\n",
    "tk,xk=AB(Ft,a,b,x3,n,k)\n",
    "xk"
   ]
  },
  {
   "cell_type": "markdown",
   "id": "f6831903",
   "metadata": {},
   "source": [
    "#### Bashforth-Moulton-3 PC y error escalar:"
   ]
  },
  {
   "cell_type": "code",
   "execution_count": 10,
   "id": "497bdbf1",
   "metadata": {},
   "outputs": [],
   "source": [
    "def der_total(f,n):\n",
    "    if n==0:\n",
    "        return f\n",
    "    dtn = der_total(f,n-1)\n",
    "    return (dtn.diff(t) + dtn.diff(x) * f).expand()\n",
    "\n",
    "def Taylor(T,a,b,x0,n):\n",
    "    h = (b-a)/n\n",
    "    tk = [a,a+h .. b]\n",
    "    xk = (n+1)*[0.]\n",
    "    xk[0] = x0.n()\n",
    "    for i in range(n):\n",
    "        xk[i+1] = (xk[i] + h * T(tk[i],xk[i],h)).n()\n",
    "    return tk,xk\n",
    "\n",
    "T4(t,x,h) = der_total(f,0) +\\\n",
    "            der_total(f,1)*h/2 +\\\n",
    "            der_total(f,2)*h^2/6 +\\\n",
    "            der_total(f,3)*h^3/24\n",
    "\n",
    "tk3,xk3 = Taylor(T4,a1,b1,x0,k-1)\n",
    "\n",
    "\n",
    "def beta_Adams_Moulton(k,j):\n",
    "    # Coeficiente j del método de Adams-Moulton de k-pasos.\n",
    "    lj(t)=prod([(t-i)/(j-i) for i in [0..j-1]+[j+1..k]])    \n",
    "    return lj.integral(t,k-1,k)\n",
    "\n",
    "def beta_Adams_Bashforth(k,j):\n",
    "    # Coeficiente j del método de Adams-Bashforth de k-pasos.\n",
    "    lj(t)=prod([(t-i)/(j-i) for i in [0..j-1]+[j+1..k-1]])    \n",
    "    return lj.integral(t,k-1,k)\n",
    "\n",
    "\n",
    "def PC_Adams3error(f,a,b,x0,n):\n",
    "    h = (b-a).n()/n\n",
    "    tk = [a,a+h .. b]\n",
    "    xk = x0 + (n+1-3)*[0.]\n",
    "    ek = (n+1)*[0.]\n",
    "    for i in range(n+1-3):\n",
    "        # Adams-Bashforth (predictor)\n",
    "        sumatorio = 5/12*f(tk[i],xk[i])-4/3*f(tk[i+1],xk[i+1])\\\n",
    "                    + 23/12*f(tk[i+2],xk[i+2])\n",
    "        xbarra = (xk[i+3-1] + h * sumatorio).n()\n",
    "        # Adams-Moulton (corrector)\n",
    "        sumatorio = -1/12*f(tk[i+1],xk[i+1])+ 2/3*f(tk[i+2],xk[i+2])\\\n",
    "                    + 5/12*f(tk[i+3],xbarra)\n",
    "        xk[i+3]  = (xk[i+3-1] + h * sumatorio).n()\n",
    "        ek[i+3]  = (xk[i+3] - xbarra)/10\n",
    "    return tk,xk,ek"
   ]
  },
  {
   "cell_type": "markdown",
   "id": "2bc19186",
   "metadata": {},
   "source": [
    "#### Bashforth-Moulton-3 PC y error vectorial:"
   ]
  },
  {
   "cell_type": "code",
   "execution_count": null,
   "id": "c45931c0",
   "metadata": {},
   "outputs": [],
   "source": [
    "var('x,y,t')\n",
    "F(x,y)=[,]\n",
    "Ft(t,x,y)=[,]\n",
    "\n",
    "def der_total_sistemas(F,n):\n",
    "    if n==0:\n",
    "        return F\n",
    "    dtn = der_total_sistemas(F,n-1)\n",
    "    return  dtn.diff() * F\n",
    "\n",
    "def Taylor(T,a,b,x0,n):\n",
    "    h = (b-a)/n\n",
    "    tk = [a,a+h .. b]\n",
    "    xk=(n+1)*[x0]\n",
    "    for i in range(n):\n",
    "        xk[i+1] = (xk[i] + h * T(tk[i],xk[i][0],xk[i][1],h)).n()\n",
    "    return tk,xk\n",
    "\n",
    "T3(t,x,y,h) = der_total_sistemas(F,0) +\\\n",
    "            der_total_sistemas(F,1)*h/2 +\\\n",
    "            der_total_sistemas(F,2)*h^2/6\n",
    "\n",
    "t3,x3=Taylor(T3,a,b,x0,2)\n",
    "\n",
    "def PC_Adams3error(f,a,b,x0,n):\n",
    "    h = (b-a).n()/n\n",
    "    tk = [a,a+h .. b]\n",
    "    xk = x0 + (n+1-3)*[x0[0]]\n",
    "    ek = (n+1)*[0.]\n",
    "    for i in range(n+1-3):\n",
    "        # Adams-Bashforth (predictor)\n",
    "        sumatorio = 5/12*f(tk[i],xk[i][0],xk[i][1])-4/3*f(tk[i+1],xk[i+1][0],xk[i+1][1])\\\n",
    "                    + 23/12*f(tk[i+2],xk[i+2][0],xk[i+2][1])\n",
    "        xbarra = (xk[i+3-1] + h * sumatorio).n()\n",
    "        # Adams-Moulton (corrector)\n",
    "        sumatorio = -1/12*f(tk[i+1],xk[i+1][0],xk[i+1][1])+ 2/3*f(tk[i+2],xk[i+1][0],xk[i+1][1])\\\n",
    "                    + 5/12*f(tk[i+3],xbarra[0],xbarra[1])\n",
    "        xk[i+3]  = (xk[i+3-1] + h * sumatorio).n()\n",
    "        ek[i+3]  = (xk[i+3] - xbarra)/10\n",
    "    return tk,xk,ek\n",
    "\n",
    "tk,xk,ek=PC_Adams3error(Ft,a,b,x3,n)\n",
    "xk"
   ]
  },
  {
   "cell_type": "markdown",
   "id": "c8258ad2",
   "metadata": {},
   "source": [
    "#### Bashforth-Moulton-2 PC y error escalar:\n"
   ]
  },
  {
   "cell_type": "code",
   "execution_count": 4,
   "id": "859cd7c6",
   "metadata": {},
   "outputs": [],
   "source": [
    "def PC_Adams2error(f,a,b,x0,n):\n",
    "    h = (b-a).n()/n\n",
    "    tk = [a,a+h .. b]\n",
    "    xk = x0 + (n+1-2)*[0.]\n",
    "    ek = (n+1)*[0.]\n",
    "    for i in range(n+1-2):\n",
    "        # Adams-Bashforth (predictor)\n",
    "        sumatorio = -1/2*f(tk[i],xk[i]) + 3/2*f(tk[i+1],xk[i+1])\n",
    "        xbarra = (xk[i+2-1] + h * sumatorio).n()\n",
    "        # Adams-Moulton (corrector)\n",
    "        sumatorio = 1/2*f(tk[i+1],xk[i+1]) + 1/2*f(tk[i+2],xbarra)\n",
    "        xk[i+2]  = (xk[i+2-1] + h * sumatorio).n()\n",
    "        ek[i+2]  = (xk[i+2] - xbarra)*((-1/12)/(5/12 + 1/12))\n",
    "    return tk,xk,ek"
   ]
  },
  {
   "cell_type": "code",
   "execution_count": null,
   "id": "949cffdd",
   "metadata": {},
   "outputs": [],
   "source": []
  },
  {
   "cell_type": "markdown",
   "id": "32c48f26",
   "metadata": {},
   "source": [
    "## Estudio de estabilidad en métodos multipaso"
   ]
  },
  {
   "cell_type": "code",
   "execution_count": null,
   "id": "2f45e0e9",
   "metadata": {},
   "outputs": [],
   "source": [
    "# con k=2\n",
    "def p(x,h):\n",
    "    return ()*x^2 + ()*x +   - h*(()*x^2 + ()*x + )\n",
    "\n",
    "var('x,h')\n",
    "r2(h)=p(x,h).roots(x)[0][0]\n",
    "r1(h)=p(x,h).roots(x)[1][0]"
   ]
  },
  {
   "cell_type": "markdown",
   "id": "2dbf92d1",
   "metadata": {},
   "source": [
    "#### Relativa:"
   ]
  },
  {
   "cell_type": "code",
   "execution_count": null,
   "id": "c813b130",
   "metadata": {},
   "outputs": [],
   "source": [
    "region_plot(lambda x,y:r2(x+I*y).norm()<r1(x+I*y).norm(), (x,-1,1),(y,-1,1), plot_points=150, alpha=0.5)"
   ]
  },
  {
   "cell_type": "markdown",
   "id": "8eac739f",
   "metadata": {},
   "source": [
    "#### Absoluta:"
   ]
  },
  {
   "cell_type": "code",
   "execution_count": null,
   "id": "19a2263b",
   "metadata": {},
   "outputs": [],
   "source": [
    "region_plot(lambda x,y:r1(x+I*y).norm()<1, (x,-1,1),(y,-1,1),alpha=0.3, plot_points=150) + region_plot(lambda x,y:r2(x+I*y).norm()<1, (x,-1,1),(y,-1,1),alpha=0.3, plot_points=150)"
   ]
  },
  {
   "cell_type": "code",
   "execution_count": null,
   "id": "71e1aa3e",
   "metadata": {},
   "outputs": [],
   "source": []
  },
  {
   "cell_type": "markdown",
   "id": "f74423c8",
   "metadata": {},
   "source": [
    "## Calcular el método lineal multipaso de mayor orden"
   ]
  },
  {
   "cell_type": "code",
   "execution_count": null,
   "id": "58fff9fe",
   "metadata": {},
   "outputs": [],
   "source": [
    "#para 3 pasos explícito (el orden será 2k-1=5):"
   ]
  },
  {
   "cell_type": "code",
   "execution_count": null,
   "id": "399c8b79",
   "metadata": {},
   "outputs": [],
   "source": [
    "var('a0,a1,a2,b0,b1,b2')\n",
    "alpha = vector([a0,a1,a2,1])\n",
    "beta = vector([b0,b1,b2,0])\n",
    "\n",
    "k=3\n",
    "C0 = sum(alpha)\n",
    "C1 = alpha*vector([0..k]) - sum(beta)\n",
    "C2 = sum([j^2*alpha[j] for j in [0..k]])/2 - sum([j*beta[j] for j in [0..k]])\n",
    "C3 = sum([j^3*alpha[j] for j in [0..k]])/factorial(3) - sum([j^2*beta[j] for j in [0..k]])/factorial(2)\n",
    "C4 = sum([j^4*alpha[j] for j in [0..k]])/factorial(4) - sum([j^3*beta[j] for j in [0..k]])/factorial(3)\n",
    "C5 = sum([j^5*alpha[j] for j in [0..k]])/factorial(5) - sum([j^4*beta[j] for j in [0..k]])/factorial(4)\n",
    "solve([C0==0,C1==0,C2==0,C3==0,C4==0,C5==0],a0,a1,a2,b0,b1,b2)\n",
    "\n",
    "# Para calcular las raices y ver si sería convergente:\n",
    "\n",
    "#rho(t) = -a0-a1*t+a2*t^2+a3*t^3\n",
    "#[r.n() for r,m in rho.roots()]\n"
   ]
  },
  {
   "cell_type": "code",
   "execution_count": null,
   "id": "fa61592d",
   "metadata": {},
   "outputs": [],
   "source": []
  },
  {
   "cell_type": "markdown",
   "id": "735b2e5e",
   "metadata": {},
   "source": [
    "## Métodos de Tiro"
   ]
  },
  {
   "cell_type": "markdown",
   "id": "e8db110d",
   "metadata": {},
   "source": [
    "#### RK-4"
   ]
  },
  {
   "cell_type": "code",
   "execution_count": null,
   "id": "7ce270d1",
   "metadata": {},
   "outputs": [],
   "source": [
    "var('t,u,v')\n",
    "eqns=[v,-sin(u)]\n",
    "eqns\n",
    "def phi(eqns,v0):\n",
    "    P = desolve_system_rk4(eqns,[u,v],ics=[0,0,v0],ivar=t,end_points=8,step=0.01)\n",
    "    return P[-1][1]\n",
    "line([(k,phi(eqns,k)) for k in [0, 0.1 .. 1.7]])\n",
    "\n",
    "# con el line se ve donde se anula phi para así coger dos valores iniciales proximos al cero de phi.\n",
    "\n",
    "v2 = (v1*phi(eqns,v0)-v0*phi(eqns,v1))/(phi(eqns,v0)-phi(eqns,v1))\n",
    "\n",
    "# donde los v1 y v0 se toman a ojo a traves del line"
   ]
  },
  {
   "cell_type": "markdown",
   "id": "8c1ae908",
   "metadata": {},
   "source": [
    "#### Taylor"
   ]
  },
  {
   "cell_type": "code",
   "execution_count": null,
   "id": "834c006b",
   "metadata": {},
   "outputs": [],
   "source": [
    "var('t,u,v')\n",
    "eqns(u,v)=[v,-sin(u)]\n",
    "\n",
    "def der_total_sistemas(F,n):\n",
    "    if n==0:\n",
    "        return F\n",
    "    dtn = der_total_sistemas(F,n-1)\n",
    "    return  dtn.diff() * F\n",
    "\n",
    "def Taylor(T, x0, h, n):\n",
    "    xk=(n+1)*[x0]\n",
    "    for i in range(n):\n",
    "        xk[i+1]=(xk[i] + h*T(*xk[i],h)).n()\n",
    "        \n",
    "    return xk\n",
    "\n",
    "def phi2(eqns,v0):\n",
    "    vk=vector(RDF,[0.,v0])\n",
    "    T4(u,v,h) = der_total_sistemas(eqns,0) +\\\n",
    "            der_total_sistemas(eqns,1)*h/2 +\\\n",
    "            der_total_sistemas(eqns,2)*h^2/6 +\\\n",
    "            der_total_sistemas(eqns,3)*h^3/24\n",
    "    Q = Taylor(T4,vk,0.01,100)\n",
    "    return Q[-1][1]\n",
    "\n",
    "line([(k,phi2(eqns,k)) for k in [0., 0.2 .. 1.0]])\n",
    "\n",
    "# los suele dar en el enunciado\n",
    "v0=\n",
    "v1=\n",
    "\n",
    "v2 = (v1*phi(eqns,v0)-v0*phi(eqns,v1))/(phi(eqns,v0)-phi(eqns,v1))\n"
   ]
  },
  {
   "cell_type": "code",
   "execution_count": null,
   "id": "e470ba8e",
   "metadata": {},
   "outputs": [],
   "source": []
  },
  {
   "cell_type": "markdown",
   "id": "95e622d9",
   "metadata": {},
   "source": [
    "## Diferencias Fintias"
   ]
  },
  {
   "cell_type": "code",
   "execution_count": null,
   "id": "2a3ffdac",
   "metadata": {},
   "outputs": [],
   "source": [
    "# Función que define los coeficientes del sistema\n",
    "def a(i,j):\n",
    "    if i==j:\n",
    "        return 2\n",
    "    if abs(i-j)==1:\n",
    "        return -1\n",
    "    else:\n",
    "        return 0\n",
    "    \n",
    "# Planteamos el sistema y lo resolvemos\n",
    "N = 5\n",
    "h = 1/(N+1)\n",
    "A = h^-2*matrix([[a(i,j) for j in [1 .. N]] for i in [1 .. N]],sparse=true)\n",
    "F = vector([(i*h) for i in [1..N]]) \n",
    "show(A,F)\n",
    "\n",
    "Ui=A.solve_right(F)\n"
   ]
  },
  {
   "cell_type": "code",
   "execution_count": null,
   "id": "73abf2c6",
   "metadata": {},
   "outputs": [],
   "source": []
  },
  {
   "cell_type": "markdown",
   "id": "15be848c",
   "metadata": {},
   "source": [
    "## Ecuación del Calor"
   ]
  },
  {
   "cell_type": "code",
   "execution_count": null,
   "id": "bfa9aa82",
   "metadata": {},
   "outputs": [],
   "source": [
    "g(x)=1.0*x*(1-x)\n",
    "a(t)=0\n",
    "b(t)=1-1/(t+1)\n",
    "\n",
    "# Definimos los puntos de la malla\n",
    "T = 1. # Tiempo final\n",
    "N = 5 # particiones de el tiempo\n",
    "M = 100 # paritciones de la longitud de la barra\n",
    "h = 1.0/(N+1)\n",
    "k = T/M\n",
    "\n",
    "s = k/h^2\n",
    "A = (1-2*s)*matrix.identity(N,sparse=true)\n",
    "for i in [1..N-1]:\n",
    "    A[i-1,i] = s\n",
    "    A[i,i-1] = s\n",
    "    \n",
    "C = Matrix(RDF,M,N+2)\n",
    "C[0,:] = vector([g(i*h) for i in [0..N+1]]) \n",
    "for i in [1..M-1]:\n",
    "    ti = i*k\n",
    "    C[i,0] = a(ti)\n",
    "    C[i,-1] = b(ti)\n",
    "    \n",
    "v0 = vector(C[0,1:N+1])\n",
    "for i in [1..M-1]:\n",
    "    v0 = A*v0\n",
    "    v0[0]  += s*a((i-1)*k)\n",
    "    v0[-1] += s*b((i-1)*k)\n",
    "    C[i,1:N+1] = v0\n",
    "show(v0)"
   ]
  },
  {
   "cell_type": "code",
   "execution_count": null,
   "id": "c98d7b7e",
   "metadata": {},
   "outputs": [],
   "source": []
  },
  {
   "cell_type": "markdown",
   "id": "a96d1046",
   "metadata": {},
   "source": [
    "## Dirichlet"
   ]
  },
  {
   "cell_type": "code",
   "execution_count": 35,
   "id": "54d69d6b",
   "metadata": {},
   "outputs": [
    {
     "data": {
      "text/html": [
       "<html><script type=\"math/tex; mode=display\">\\newcommand{\\Bold}[1]{\\mathbf{#1}}\\left(\\begin{array}{rr}\n",
       "0 & 1 \\\\\n",
       "2 & 3\n",
       "\\end{array}\\right)</script></html>"
      ],
      "text/latex": [
       "$$\\newcommand{\\Bold}[1]{\\mathbf{#1}}\\left(\\begin{array}{rr}\n",
       "0 & 1 \\\\\n",
       "2 & 3\n",
       "\\end{array}\\right)$$"
      ],
      "text/plain": [
       "[0 1]\n",
       "[2 3]"
      ]
     },
     "metadata": {},
     "output_type": "display_data"
    }
   ],
   "source": [
    "# recordar que h=1/(n+1) y que 0 <= i,j <= n + 1, ademas 4*u_i,j - u_i-1,j - u_i,j-1 - u_i+1,j - u_i,j+1 =0 con 1 <= i,j <= n \n",
    "\n",
    "n = 2\n",
    "\n",
    "def pos(i,j,n):\n",
    "    return i+j*n\n",
    "\n",
    "show(matrix([[pos(i,j,n) for i in range(n)] for j in range(n)]))"
   ]
  },
  {
   "cell_type": "code",
   "execution_count": null,
   "id": "5ed1aaa8",
   "metadata": {},
   "outputs": [],
   "source": [
    "A = matrix.zero(n^2,sparse=true)\n",
    "b = vector([0]*n^2)\n",
    "b = vector([0,1,2,3]) # n=2\n",
    "b = vector([0,1,2,3,4,5,6,7,8,9]) # n=3\n",
    "\n",
    "#Para calcular b escirbir las ecuaciones 4*u_i,j .... y los valores que se puedan obtener de lo valores frontera despejarlos \n",
    "# y ponerlos en la posición que indique la matriz de posiciones.\n",
    "\n",
    "for i in range(n):\n",
    "    for j in range(n):\n",
    "        pij = pos(i,j,n)\n",
    "        A[pij,pij] = 4\n",
    "        if i>0:\n",
    "            A[pij,pos(i-1,j,n)]=-1\n",
    "        if j>0:\n",
    "            A[pij,pos(i,j-1,n)]=-1\n",
    "        if i<n-1:\n",
    "            A[pij,pos(i+1,j,n)]=-1\n",
    "        if j<n-1:\n",
    "            A[pij,pos(i,j+1,n)]=-1\n",
    "            \n",
    "v = A\\b\n",
    "U = matrix([v[i:i+n] for i in range(n)])\n",
    "show(U)"
   ]
  }
 ],
 "metadata": {
  "kernelspec": {
   "display_name": "SageMath 9.5",
   "language": "sage",
   "name": "sagemath"
  },
  "language_info": {
   "codemirror_mode": {
    "name": "ipython",
    "version": 3
   },
   "file_extension": ".py",
   "mimetype": "text/x-python",
   "name": "python",
   "nbconvert_exporter": "python",
   "pygments_lexer": "ipython3",
   "version": "3.11.2"
  }
 },
 "nbformat": 4,
 "nbformat_minor": 5
}
